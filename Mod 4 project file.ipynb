{
 "cells": [
  {
   "cell_type": "markdown",
   "id": "uniform-dependence",
   "metadata": {},
   "source": [
    "import matplotlib.pyplot as plt\n",
    "import seaborn as sns\n",
    "# ^^^ pyforest auto-imports - don't write above this line\n",
    "# Imports"
   ]
  },
  {
   "cell_type": "code",
   "execution_count": 1,
   "id": "hybrid-contents",
   "metadata": {},
   "outputs": [],
   "source": [
    "import numpy as np\n",
    "import pandas as pd\n",
    "# ^^^ pyforest auto-imports - don't write above this line\n",
    "import pyforest\n",
    "import warnings\n",
    "from surprise import SVD,NormalPredictor\n",
    "from surprise.model_selection import train_test_split\n",
    "from surprise.dataset import Dataset\n",
    "from surprise import Reader\n",
    "from surprise import AlgoBase\n",
    "import random\n",
    "from surprise.model_selection import cross_validate\n",
    "\n",
    "from surprise.prediction_algorithms.knns import KNNBasic\n",
    "\n",
    "from surprise.model_selection import GridSearchCV\n",
    "warnings.filterwarnings(\"ignore\")"
   ]
  },
  {
   "cell_type": "markdown",
   "id": "adopted-specific",
   "metadata": {},
   "source": [
    "# Package Installs"
   ]
  },
  {
   "cell_type": "code",
   "execution_count": 2,
   "id": "republican-gallery",
   "metadata": {},
   "outputs": [],
   "source": [
    "# !pip install -U scikit-surprise==1.1.0"
   ]
  },
  {
   "cell_type": "markdown",
   "id": "expanded-norway",
   "metadata": {},
   "source": [
    "# Functions"
   ]
  },
  {
   "cell_type": "code",
   "execution_count": 3,
   "id": "complicated-hundred",
   "metadata": {},
   "outputs": [],
   "source": [
    "class RandomRating(AlgoBase):\n",
    "    def __init__(self, p = .5):\n",
    "        self.p = p\n",
    "        AlgoBase.__init__(self)\n",
    "        \n",
    "    def estimate(self,u,i):\n",
    "        return np.random.binomial(n = 5,p = self.p,size = 1)[0]\n",
    "    \n",
    "    "
   ]
  },
  {
   "cell_type": "code",
   "execution_count": 109,
   "id": "regular-library",
   "metadata": {
    "code_folding": []
   },
   "outputs": [],
   "source": [
    "np.random.seed(0)\n",
    "\n",
    "def get_data():\n",
    "    movies = pd.read_csv('ml-latest-small/movies.csv')\n",
    "    links = pd.read_csv('ml-latest-small/links.csv')\n",
    "    ratings = pd.read_csv('ml-latest-small/ratings.csv')\n",
    "    tags = pd.read_csv('ml-latest-small/tags.csv')\n",
    "    return movies,links,ratings,tags\n",
    "\n",
    "def clean_data(movies,links,ratings):\n",
    "    ratings.drop('timestamp',axis = 1, inplace = True)\n",
    "    \n",
    "    \n",
    "    df1 = pd.merge(movies,links,on ='movieId')\n",
    "    \n",
    "    df = pd.merge(df1,ratings,on = 'movieId',how = 'inner')\n",
    "    df['release year'] = df['title'].str[-6:]\n",
    "    df['title'] = [x[:-6] for x in df['title']]\n",
    "    df['release year'] = df['release year'].str.extract(r'\\((.*)\\)')\n",
    "    df['release year'] = df['release year'].fillna(0).astype(int)\n",
    "    df['genres'] = df['genres'].str.split('|').astype(str)  \n",
    "    df.drop(['imdbId','tmdbId'],axis = 1,inplace = True)\n",
    "#     df.drop('timestamp',axis = 1,inplace = True)\n",
    "    return df\n",
    "\n",
    "def ratings_counts(df1):\n",
    "    df1['ratings count'] = ratings.groupby('movieId')['rating'].count().count()\n",
    "    df1['average rating'] = ratings.groupby('movieId')['rating'].mean()\n",
    "#     df1.drop('rating',axis = 1,inplace = True)\n",
    "    df1.drop_duplicates(subset = 'title',keep = 'last',inplace = True)\n",
    "    return df1\n",
    "\n",
    "\n",
    "def predict_evaluate(recsys,dataset,name = 'Algorithm'):\n",
    "    scores = cross_validate(\n",
    "    recsys, dataset, measures = ['RMSE','MAE'], cv = 4)\n",
    "    print('Testset Avg MAE: {:.2f} Avg RMSE : {:.2f} [{}]'.format(scores['test_mae'].mean(), scores['test_rmse'].mean(), name))\n",
    "    \n",
    "    \n",
    "def user_interest():\n",
    "#     movies['title'] = [x[:-6] for x in movies['title']]\n",
    "    genre_input = input('Give me a genre: ')\n",
    "    genre_based = df[df.genres.str.contains(genre_input)]\n",
    "    titles = list(genre_based['title'])\n",
    "    title = []\n",
    "    [title.append(x) for x in titles if x not in title]\n",
    "    user = (df['userId'].values.max() +1)\n",
    "    \n",
    "    movies = pd.DataFrame(columns = df.columns)\n",
    "    for i in range (1,6):\n",
    "        \n",
    "        x = random.choice(titles)\n",
    "        y = float(input('what would you rate the movie ' + x))\n",
    "        movies2 = df[(df.title.values == x)]\n",
    "        movies2.drop_duplicates(subset = 'title',keep = 'first',inplace = True)\n",
    "        movies2['rating'] = y\n",
    "        movies2['userId'] = user\n",
    "        movies = movies.append(movies2)\n",
    "        \n",
    "        \n",
    "    \n",
    "    return movies"
   ]
  },
  {
   "cell_type": "markdown",
   "id": "existing-april",
   "metadata": {},
   "source": [
    "# Pull data from Functions and view the data"
   ]
  },
  {
   "cell_type": "code",
   "execution_count": 110,
   "id": "sufficient-immigration",
   "metadata": {},
   "outputs": [],
   "source": [
    "movies,links,ratings,tags = get_data()\n",
    "df = clean_data(movies,links,ratings)\n"
   ]
  },
  {
   "cell_type": "code",
   "execution_count": 111,
   "id": "romance-arizona",
   "metadata": {},
   "outputs": [],
   "source": [
    "# display(movies.head())\n",
    "# display(links.head())\n",
    "# display(ratings.head())\n",
    "# display(tags.head())"
   ]
  },
  {
   "cell_type": "code",
   "execution_count": 112,
   "id": "unauthorized-hollow",
   "metadata": {},
   "outputs": [],
   "source": [
    "new_df = ratings_counts(df)"
   ]
  },
  {
   "cell_type": "code",
   "execution_count": 113,
   "id": "challenging-indie",
   "metadata": {},
   "outputs": [
    {
     "data": {
      "text/html": [
       "<div>\n",
       "<style scoped>\n",
       "    .dataframe tbody tr th:only-of-type {\n",
       "        vertical-align: middle;\n",
       "    }\n",
       "\n",
       "    .dataframe tbody tr th {\n",
       "        vertical-align: top;\n",
       "    }\n",
       "\n",
       "    .dataframe thead th {\n",
       "        text-align: right;\n",
       "    }\n",
       "</style>\n",
       "<table border=\"1\" class=\"dataframe\">\n",
       "  <thead>\n",
       "    <tr style=\"text-align: right;\">\n",
       "      <th></th>\n",
       "      <th>movieId</th>\n",
       "      <th>title</th>\n",
       "      <th>genres</th>\n",
       "      <th>userId</th>\n",
       "      <th>rating</th>\n",
       "      <th>release year</th>\n",
       "      <th>ratings count</th>\n",
       "      <th>average rating</th>\n",
       "    </tr>\n",
       "  </thead>\n",
       "  <tbody>\n",
       "    <tr>\n",
       "      <th>214</th>\n",
       "      <td>1</td>\n",
       "      <td>Toy Story</td>\n",
       "      <td>['Adventure', 'Animation', 'Children', 'Comedy...</td>\n",
       "      <td>610</td>\n",
       "      <td>5.0</td>\n",
       "      <td>1995</td>\n",
       "      <td>9724</td>\n",
       "      <td>4.000000</td>\n",
       "    </tr>\n",
       "    <tr>\n",
       "      <th>324</th>\n",
       "      <td>2</td>\n",
       "      <td>Jumanji</td>\n",
       "      <td>['Adventure', 'Children', 'Fantasy']</td>\n",
       "      <td>608</td>\n",
       "      <td>2.0</td>\n",
       "      <td>1995</td>\n",
       "      <td>9724</td>\n",
       "      <td>4.000000</td>\n",
       "    </tr>\n",
       "    <tr>\n",
       "      <th>376</th>\n",
       "      <td>3</td>\n",
       "      <td>Grumpier Old Men</td>\n",
       "      <td>['Comedy', 'Romance']</td>\n",
       "      <td>608</td>\n",
       "      <td>2.0</td>\n",
       "      <td>1995</td>\n",
       "      <td>9724</td>\n",
       "      <td>3.250000</td>\n",
       "    </tr>\n",
       "    <tr>\n",
       "      <th>383</th>\n",
       "      <td>4</td>\n",
       "      <td>Waiting to Exhale</td>\n",
       "      <td>['Comedy', 'Drama', 'Romance']</td>\n",
       "      <td>600</td>\n",
       "      <td>1.5</td>\n",
       "      <td>1995</td>\n",
       "      <td>9724</td>\n",
       "      <td>3.095238</td>\n",
       "    </tr>\n",
       "    <tr>\n",
       "      <th>432</th>\n",
       "      <td>5</td>\n",
       "      <td>Father of the Bride Part II</td>\n",
       "      <td>['Comedy']</td>\n",
       "      <td>604</td>\n",
       "      <td>3.0</td>\n",
       "      <td>1995</td>\n",
       "      <td>9724</td>\n",
       "      <td>2.645455</td>\n",
       "    </tr>\n",
       "  </tbody>\n",
       "</table>\n",
       "</div>"
      ],
      "text/plain": [
       "     movieId                         title  \\\n",
       "214        1                    Toy Story    \n",
       "324        2                      Jumanji    \n",
       "376        3             Grumpier Old Men    \n",
       "383        4            Waiting to Exhale    \n",
       "432        5  Father of the Bride Part II    \n",
       "\n",
       "                                                genres  userId  rating  \\\n",
       "214  ['Adventure', 'Animation', 'Children', 'Comedy...     610     5.0   \n",
       "324               ['Adventure', 'Children', 'Fantasy']     608     2.0   \n",
       "376                              ['Comedy', 'Romance']     608     2.0   \n",
       "383                     ['Comedy', 'Drama', 'Romance']     600     1.5   \n",
       "432                                         ['Comedy']     604     3.0   \n",
       "\n",
       "     release year  ratings count  average rating  \n",
       "214          1995           9724        4.000000  \n",
       "324          1995           9724        4.000000  \n",
       "376          1995           9724        3.250000  \n",
       "383          1995           9724        3.095238  \n",
       "432          1995           9724        2.645455  "
      ]
     },
     "execution_count": 113,
     "metadata": {},
     "output_type": "execute_result"
    }
   ],
   "source": [
    "df.head()"
   ]
  },
  {
   "cell_type": "markdown",
   "id": "amber-madrid",
   "metadata": {},
   "source": [
    "# Checking graphs of beginning data"
   ]
  },
  {
   "cell_type": "markdown",
   "id": "boolean-adolescent",
   "metadata": {},
   "source": [
    "what we are going to do is check the movie dataset for any type of \"weird\" noise or off setting data. First what we will do is check the datasets ratings for any type of rating malfunction and outliers to the data. After that we will check for some of the highest users who have rated the data. and then we will end with looking at the high and low end to the movies ratings."
   ]
  },
  {
   "cell_type": "code",
   "execution_count": 114,
   "id": "north-blanket",
   "metadata": {},
   "outputs": [
    {
     "data": {
      "application/javascript": [
       "\n",
       "        if (window._pyforest_update_imports_cell) { window._pyforest_update_imports_cell('import matplotlib.pyplot as plt\\nimport seaborn as sns'); }\n",
       "    "
      ],
      "text/plain": [
       "<IPython.core.display.Javascript object>"
      ]
     },
     "metadata": {},
     "output_type": "display_data"
    },
    {
     "data": {
      "application/javascript": [
       "\n",
       "        if (window._pyforest_update_imports_cell) { window._pyforest_update_imports_cell('import matplotlib.pyplot as plt\\nimport seaborn as sns'); }\n",
       "    "
      ],
      "text/plain": [
       "<IPython.core.display.Javascript object>"
      ]
     },
     "metadata": {},
     "output_type": "display_data"
    },
    {
     "data": {
      "text/plain": [
       "<BarContainer object of 19 artists>"
      ]
     },
     "execution_count": 114,
     "metadata": {},
     "output_type": "execute_result"
    },
    {
     "data": {
      "image/png": "[encoded data removed]",
      "text/plain": [
       "<Figure size 1440x504 with 1 Axes>"
      ]
     },
     "metadata": {
      "needs_background": "light"
     },
     "output_type": "display_data"
    }
   ],
   "source": [
    "plt.figure(figsize = (20,7))\n",
    "genlist = movies['genres'].apply(lambda x :str(x).split('|'))\n",
    "genre_count = {}\n",
    "for genlist_movie in genlist:\n",
    "    for genre in genlist_movie:\n",
    "        if(genre_count.get(genre,False)):\n",
    "            genre_count[genre] = genre_count[genre] +1\n",
    "        else:\n",
    "            genre_count[genre] = 1\n",
    "genre_count.pop('(no genres listed)')\n",
    "plt.bar(genre_count.keys(),genre_count.values(),color = 'teal')"
   ]
  },
  {
   "cell_type": "code",
   "execution_count": 115,
   "id": "similar-matrix",
   "metadata": {},
   "outputs": [
    {
     "data": {
      "application/javascript": [
       "\n",
       "        if (window._pyforest_update_imports_cell) { window._pyforest_update_imports_cell('import matplotlib.pyplot as plt\\nimport seaborn as sns'); }\n",
       "    "
      ],
      "text/plain": [
       "<IPython.core.display.Javascript object>"
      ]
     },
     "metadata": {},
     "output_type": "display_data"
    },
    {
     "data": {
      "text/plain": [
       "<AxesSubplot:xlabel='rating', ylabel='Density'>"
      ]
     },
     "execution_count": 115,
     "metadata": {},
     "output_type": "execute_result"
    },
    {
     "data": {
      "image/png": "[encoded data removed]",
      "text/plain": [
       "<Figure size 432x288 with 1 Axes>"
      ]
     },
     "metadata": {
      "needs_background": "light"
     },
     "output_type": "display_data"
    }
   ],
   "source": [
    "sns.distplot(df['rating'])"
   ]
  },
  {
   "cell_type": "code",
   "execution_count": 116,
   "id": "vocational-fraud",
   "metadata": {},
   "outputs": [
    {
     "data": {
      "text/plain": [
       "<AxesSubplot:xlabel='userId'>"
      ]
     },
     "execution_count": 116,
     "metadata": {},
     "output_type": "execute_result"
    },
    {
     "data": {
      "image/png": "[encoded data removed]",
      "text/plain": [
       "<Figure size 720x360 with 1 Axes>"
      ]
     },
     "metadata": {
      "needs_background": "light"
     },
     "output_type": "display_data"
    }
   ],
   "source": [
    "ratings_by_users = df.groupby('userId').agg([np.size,np.mean])\n",
    "ratings_by_users['rating']['size'].sort_values(ascending = False).head(10).plot(kind ='bar',figsize = (10,5),cmap = 'viridis')"
   ]
  },
  {
   "cell_type": "markdown",
   "id": "upset-mechanism",
   "metadata": {},
   "source": [
    "There is no surprise that the high end of the movie ratings only go to 5, so lets take a look at the movies lower end to see what movies are the lowest rated. To make it easier for us we will be looking at the titles of the movies"
   ]
  },
  {
   "cell_type": "code",
   "execution_count": 117,
   "id": "norwegian-optimization",
   "metadata": {},
   "outputs": [
    {
     "data": {
      "text/plain": [
       "<AxesSubplot:ylabel='title'>"
      ]
     },
     "execution_count": 117,
     "metadata": {},
     "output_type": "execute_result"
    },
    {
     "data": {
      "image/png": "[encoded data removed]",
      "text/plain": [
       "<Figure size 576x504 with 1 Axes>"
      ]
     },
     "metadata": {
      "needs_background": "light"
     },
     "output_type": "display_data"
    }
   ],
   "source": [
    "ratings_by_movieId = df.groupby('title').agg([np.mean],np.size)\n",
    "\n",
    "ratings_by_movieId['rating']['mean'].sort_values(ascending = False).head(10).plot(kind = 'barh',figsize = (8,7))"
   ]
  },
  {
   "cell_type": "code",
   "execution_count": 118,
   "id": "adjusted-hanging",
   "metadata": {},
   "outputs": [
    {
     "data": {
      "text/plain": [
       "<AxesSubplot:ylabel='title'>"
      ]
     },
     "execution_count": 118,
     "metadata": {},
     "output_type": "execute_result"
    },
    {
     "data": {
      "image/png": "[encoded data removed]",
      "text/plain": [
       "<Figure size 1080x576 with 1 Axes>"
      ]
     },
     "metadata": {
      "needs_background": "light"
     },
     "output_type": "display_data"
    }
   ],
   "source": [
    "ratings_by_movieId.drop(['release year','movieId','userId'],axis = 1,inplace = True)\n",
    "low_rated = ratings_by_movieId['rating']['mean'] <1.5\n",
    "lower = ratings_by_movieId[low_rated]\n",
    "lower.head(10).plot(kind = 'barh', figsize = (15,8))"
   ]
  },
  {
   "cell_type": "code",
   "execution_count": 119,
   "id": "noted-kitchen",
   "metadata": {},
   "outputs": [
    {
     "data": {
      "text/html": [
       "<div>\n",
       "<style scoped>\n",
       "    .dataframe tbody tr th:only-of-type {\n",
       "        vertical-align: middle;\n",
       "    }\n",
       "\n",
       "    .dataframe tbody tr th {\n",
       "        vertical-align: top;\n",
       "    }\n",
       "\n",
       "    .dataframe thead tr th {\n",
       "        text-align: left;\n",
       "    }\n",
       "\n",
       "    .dataframe thead tr:last-of-type th {\n",
       "        text-align: right;\n",
       "    }\n",
       "</style>\n",
       "<table border=\"1\" class=\"dataframe\">\n",
       "  <thead>\n",
       "    <tr>\n",
       "      <th></th>\n",
       "      <th>rating</th>\n",
       "      <th>ratings count</th>\n",
       "      <th>average rating</th>\n",
       "    </tr>\n",
       "    <tr>\n",
       "      <th></th>\n",
       "      <th>mean</th>\n",
       "      <th>mean</th>\n",
       "      <th>mean</th>\n",
       "    </tr>\n",
       "    <tr>\n",
       "      <th>title</th>\n",
       "      <th></th>\n",
       "      <th></th>\n",
       "      <th></th>\n",
       "    </tr>\n",
       "  </thead>\n",
       "  <tbody>\n",
       "    <tr>\n",
       "      <th>10th Kingdom, The</th>\n",
       "      <td>1.0</td>\n",
       "      <td>9724</td>\n",
       "      <td>NaN</td>\n",
       "    </tr>\n",
       "    <tr>\n",
       "      <th>3 Days to Kill</th>\n",
       "      <td>0.5</td>\n",
       "      <td>9724</td>\n",
       "      <td>NaN</td>\n",
       "    </tr>\n",
       "    <tr>\n",
       "      <th>3 Ninjas</th>\n",
       "      <td>1.0</td>\n",
       "      <td>9724</td>\n",
       "      <td>NaN</td>\n",
       "    </tr>\n",
       "    <tr>\n",
       "      <th>3 Ninjas Kick Back</th>\n",
       "      <td>0.5</td>\n",
       "      <td>9724</td>\n",
       "      <td>NaN</td>\n",
       "    </tr>\n",
       "    <tr>\n",
       "      <th>3 Ninjas Knuckle Up</th>\n",
       "      <td>0.5</td>\n",
       "      <td>9724</td>\n",
       "      <td>NaN</td>\n",
       "    </tr>\n",
       "    <tr>\n",
       "      <th>3 dev adam (Three Giant Men) (</th>\n",
       "      <td>0.5</td>\n",
       "      <td>9724</td>\n",
       "      <td>NaN</td>\n",
       "    </tr>\n",
       "    <tr>\n",
       "      <th>47 Ronin</th>\n",
       "      <td>0.5</td>\n",
       "      <td>9724</td>\n",
       "      <td>NaN</td>\n",
       "    </tr>\n",
       "    <tr>\n",
       "      <th>6th Man, The (Sixth Man, The)</th>\n",
       "      <td>1.0</td>\n",
       "      <td>9724</td>\n",
       "      <td>NaN</td>\n",
       "    </tr>\n",
       "    <tr>\n",
       "      <th>964 Pinocchio</th>\n",
       "      <td>1.0</td>\n",
       "      <td>9724</td>\n",
       "      <td>NaN</td>\n",
       "    </tr>\n",
       "    <tr>\n",
       "      <th>AVPR: Aliens vs. Predator - Requiem</th>\n",
       "      <td>1.0</td>\n",
       "      <td>9724</td>\n",
       "      <td>NaN</td>\n",
       "    </tr>\n",
       "  </tbody>\n",
       "</table>\n",
       "</div>"
      ],
      "text/plain": [
       "                                     rating ratings count average rating\n",
       "                                       mean          mean           mean\n",
       "title                                                                   \n",
       "10th Kingdom, The                       1.0          9724            NaN\n",
       "3 Days to Kill                          0.5          9724            NaN\n",
       "3 Ninjas                                1.0          9724            NaN\n",
       "3 Ninjas Kick Back                      0.5          9724            NaN\n",
       "3 Ninjas Knuckle Up                     0.5          9724            NaN\n",
       "3 dev adam (Three Giant Men) (          0.5          9724            NaN\n",
       "47 Ronin                                0.5          9724            NaN\n",
       "6th Man, The (Sixth Man, The)           1.0          9724            NaN\n",
       "964 Pinocchio                           1.0          9724            NaN\n",
       "AVPR: Aliens vs. Predator - Requiem     1.0          9724            NaN"
      ]
     },
     "execution_count": 119,
     "metadata": {},
     "output_type": "execute_result"
    }
   ],
   "source": [
    "lower.head(10)"
   ]
  },
  {
   "cell_type": "markdown",
   "id": "political-communist",
   "metadata": {},
   "source": [
    "# Fixing the cold start problem\n",
    "The cold start problem is where a new user comes in and we have nothing to recommend to them. This will somewhat solve that problem by asking them to rate a few movies at random and setting it into the dataframe and allowing us to be able to perform some sort of customizing based off of that data. \n"
   ]
  },
  {
   "cell_type": "code",
   "execution_count": 122,
   "id": "usual-framework",
   "metadata": {},
   "outputs": [
    {
     "name": "stdin",
     "output_type": "stream",
     "text": [
      "Give me a genre:  Action\n",
      "what would you rate the movie Lost in Space  3\n",
      "what would you rate the movie Simon Sez  5\n",
      "what would you rate the movie Death Race 2000  5\n",
      "what would you rate the movie Jet Li's Fearless (Huo Yuan Jia)  3\n",
      "what would you rate the movie Wing Commander  2\n"
     ]
    },
    {
     "name": "stdout",
     "output_type": "stream",
     "text": [
      "\n",
      "User movie interest Dataframe\n"
     ]
    },
    {
     "data": {
      "text/html": [
       "<div>\n",
       "<style scoped>\n",
       "    .dataframe tbody tr th:only-of-type {\n",
       "        vertical-align: middle;\n",
       "    }\n",
       "\n",
       "    .dataframe tbody tr th {\n",
       "        vertical-align: top;\n",
       "    }\n",
       "\n",
       "    .dataframe thead th {\n",
       "        text-align: right;\n",
       "    }\n",
       "</style>\n",
       "<table border=\"1\" class=\"dataframe\">\n",
       "  <thead>\n",
       "    <tr style=\"text-align: right;\">\n",
       "      <th></th>\n",
       "      <th>movieId</th>\n",
       "      <th>title</th>\n",
       "      <th>genres</th>\n",
       "      <th>userId</th>\n",
       "      <th>rating</th>\n",
       "      <th>release year</th>\n",
       "      <th>ratings count</th>\n",
       "      <th>average rating</th>\n",
       "    </tr>\n",
       "  </thead>\n",
       "  <tbody>\n",
       "    <tr>\n",
       "      <th>35916</th>\n",
       "      <td>1831</td>\n",
       "      <td>Lost in Space</td>\n",
       "      <td>['Action', 'Adventure', 'Sci-Fi']</td>\n",
       "      <td>611</td>\n",
       "      <td>3.0</td>\n",
       "      <td>1998</td>\n",
       "      <td>9724</td>\n",
       "      <td>NaN</td>\n",
       "    </tr>\n",
       "    <tr>\n",
       "      <th>49042</th>\n",
       "      <td>2887</td>\n",
       "      <td>Simon Sez</td>\n",
       "      <td>['Action', 'Comedy']</td>\n",
       "      <td>611</td>\n",
       "      <td>5.0</td>\n",
       "      <td>1999</td>\n",
       "      <td>9724</td>\n",
       "      <td>NaN</td>\n",
       "    </tr>\n",
       "    <tr>\n",
       "      <th>75569</th>\n",
       "      <td>7991</td>\n",
       "      <td>Death Race 2000</td>\n",
       "      <td>['Action', 'Sci-Fi']</td>\n",
       "      <td>611</td>\n",
       "      <td>5.0</td>\n",
       "      <td>1975</td>\n",
       "      <td>9724</td>\n",
       "      <td>NaN</td>\n",
       "    </tr>\n",
       "    <tr>\n",
       "      <th>82750</th>\n",
       "      <td>46322</td>\n",
       "      <td>Jet Li's Fearless (Huo Yuan Jia)</td>\n",
       "      <td>['Action', 'Drama']</td>\n",
       "      <td>611</td>\n",
       "      <td>3.0</td>\n",
       "      <td>2006</td>\n",
       "      <td>9724</td>\n",
       "      <td>NaN</td>\n",
       "    </tr>\n",
       "    <tr>\n",
       "      <th>44912</th>\n",
       "      <td>2549</td>\n",
       "      <td>Wing Commander</td>\n",
       "      <td>['Action', 'Sci-Fi']</td>\n",
       "      <td>611</td>\n",
       "      <td>2.0</td>\n",
       "      <td>1999</td>\n",
       "      <td>9724</td>\n",
       "      <td>NaN</td>\n",
       "    </tr>\n",
       "  </tbody>\n",
       "</table>\n",
       "</div>"
      ],
      "text/plain": [
       "      movieId                              title  \\\n",
       "35916    1831                     Lost in Space    \n",
       "49042    2887                         Simon Sez    \n",
       "75569    7991                   Death Race 2000    \n",
       "82750   46322  Jet Li's Fearless (Huo Yuan Jia)    \n",
       "44912    2549                    Wing Commander    \n",
       "\n",
       "                                  genres userId  rating release year  \\\n",
       "35916  ['Action', 'Adventure', 'Sci-Fi']    611     3.0         1998   \n",
       "49042               ['Action', 'Comedy']    611     5.0         1999   \n",
       "75569               ['Action', 'Sci-Fi']    611     5.0         1975   \n",
       "82750                ['Action', 'Drama']    611     3.0         2006   \n",
       "44912               ['Action', 'Sci-Fi']    611     2.0         1999   \n",
       "\n",
       "      ratings count  average rating  \n",
       "35916          9724             NaN  \n",
       "49042          9724             NaN  \n",
       "75569          9724             NaN  \n",
       "82750          9724             NaN  \n",
       "44912          9724             NaN  "
      ]
     },
     "metadata": {},
     "output_type": "display_data"
    },
    {
     "name": "stdout",
     "output_type": "stream",
     "text": [
      "\n",
      "Checking dataframe for additions\n"
     ]
    },
    {
     "data": {
      "text/html": [
       "<div>\n",
       "<style scoped>\n",
       "    .dataframe tbody tr th:only-of-type {\n",
       "        vertical-align: middle;\n",
       "    }\n",
       "\n",
       "    .dataframe tbody tr th {\n",
       "        vertical-align: top;\n",
       "    }\n",
       "\n",
       "    .dataframe thead th {\n",
       "        text-align: right;\n",
       "    }\n",
       "</style>\n",
       "<table border=\"1\" class=\"dataframe\">\n",
       "  <thead>\n",
       "    <tr style=\"text-align: right;\">\n",
       "      <th></th>\n",
       "      <th>movieId</th>\n",
       "      <th>title</th>\n",
       "      <th>genres</th>\n",
       "      <th>userId</th>\n",
       "      <th>rating</th>\n",
       "      <th>release year</th>\n",
       "      <th>ratings count</th>\n",
       "      <th>average rating</th>\n",
       "    </tr>\n",
       "  </thead>\n",
       "  <tbody>\n",
       "    <tr>\n",
       "      <th>35916</th>\n",
       "      <td>1831</td>\n",
       "      <td>Lost in Space</td>\n",
       "      <td>['Action', 'Adventure', 'Sci-Fi']</td>\n",
       "      <td>611</td>\n",
       "      <td>3.0</td>\n",
       "      <td>1998</td>\n",
       "      <td>9724</td>\n",
       "      <td>NaN</td>\n",
       "    </tr>\n",
       "    <tr>\n",
       "      <th>49042</th>\n",
       "      <td>2887</td>\n",
       "      <td>Simon Sez</td>\n",
       "      <td>['Action', 'Comedy']</td>\n",
       "      <td>611</td>\n",
       "      <td>5.0</td>\n",
       "      <td>1999</td>\n",
       "      <td>9724</td>\n",
       "      <td>NaN</td>\n",
       "    </tr>\n",
       "    <tr>\n",
       "      <th>75569</th>\n",
       "      <td>7991</td>\n",
       "      <td>Death Race 2000</td>\n",
       "      <td>['Action', 'Sci-Fi']</td>\n",
       "      <td>611</td>\n",
       "      <td>5.0</td>\n",
       "      <td>1975</td>\n",
       "      <td>9724</td>\n",
       "      <td>NaN</td>\n",
       "    </tr>\n",
       "    <tr>\n",
       "      <th>82750</th>\n",
       "      <td>46322</td>\n",
       "      <td>Jet Li's Fearless (Huo Yuan Jia)</td>\n",
       "      <td>['Action', 'Drama']</td>\n",
       "      <td>611</td>\n",
       "      <td>3.0</td>\n",
       "      <td>2006</td>\n",
       "      <td>9724</td>\n",
       "      <td>NaN</td>\n",
       "    </tr>\n",
       "    <tr>\n",
       "      <th>44912</th>\n",
       "      <td>2549</td>\n",
       "      <td>Wing Commander</td>\n",
       "      <td>['Action', 'Sci-Fi']</td>\n",
       "      <td>611</td>\n",
       "      <td>2.0</td>\n",
       "      <td>1999</td>\n",
       "      <td>9724</td>\n",
       "      <td>NaN</td>\n",
       "    </tr>\n",
       "  </tbody>\n",
       "</table>\n",
       "</div>"
      ],
      "text/plain": [
       "      movieId                              title  \\\n",
       "35916    1831                     Lost in Space    \n",
       "49042    2887                         Simon Sez    \n",
       "75569    7991                   Death Race 2000    \n",
       "82750   46322  Jet Li's Fearless (Huo Yuan Jia)    \n",
       "44912    2549                    Wing Commander    \n",
       "\n",
       "                                  genres userId  rating release year  \\\n",
       "35916  ['Action', 'Adventure', 'Sci-Fi']    611     3.0         1998   \n",
       "49042               ['Action', 'Comedy']    611     5.0         1999   \n",
       "75569               ['Action', 'Sci-Fi']    611     5.0         1975   \n",
       "82750                ['Action', 'Drama']    611     3.0         2006   \n",
       "44912               ['Action', 'Sci-Fi']    611     2.0         1999   \n",
       "\n",
       "      ratings count  average rating  \n",
       "35916          9724             NaN  \n",
       "49042          9724             NaN  \n",
       "75569          9724             NaN  \n",
       "82750          9724             NaN  \n",
       "44912          9724             NaN  "
      ]
     },
     "execution_count": 122,
     "metadata": {},
     "output_type": "execute_result"
    }
   ],
   "source": [
    "user_movies = user_interest()\n",
    "print(\"\")\n",
    "print('User movie interest Dataframe')\n",
    "display(user_movies.head())\n",
    "df = df.append(user_movies)\n",
    "print('')\n",
    "print('Checking dataframe for additions')\n",
    "df.tail()"
   ]
  },
  {
   "cell_type": "markdown",
   "id": "electric-french",
   "metadata": {},
   "source": [
    "# Setting the vectorizer objects"
   ]
  },
  {
   "cell_type": "code",
   "execution_count": 123,
   "id": "productive-earthquake",
   "metadata": {},
   "outputs": [
    {
     "data": {
      "text/html": [
       "<div>\n",
       "<style scoped>\n",
       "    .dataframe tbody tr th:only-of-type {\n",
       "        vertical-align: middle;\n",
       "    }\n",
       "\n",
       "    .dataframe tbody tr th {\n",
       "        vertical-align: top;\n",
       "    }\n",
       "\n",
       "    .dataframe thead th {\n",
       "        text-align: right;\n",
       "    }\n",
       "</style>\n",
       "<table border=\"1\" class=\"dataframe\">\n",
       "  <thead>\n",
       "    <tr style=\"text-align: right;\">\n",
       "      <th>userId</th>\n",
       "      <th>1</th>\n",
       "      <th>2</th>\n",
       "      <th>3</th>\n",
       "      <th>4</th>\n",
       "      <th>5</th>\n",
       "      <th>6</th>\n",
       "      <th>7</th>\n",
       "      <th>8</th>\n",
       "      <th>9</th>\n",
       "      <th>10</th>\n",
       "      <th>...</th>\n",
       "      <th>601</th>\n",
       "      <th>602</th>\n",
       "      <th>603</th>\n",
       "      <th>604</th>\n",
       "      <th>605</th>\n",
       "      <th>606</th>\n",
       "      <th>607</th>\n",
       "      <th>608</th>\n",
       "      <th>609</th>\n",
       "      <th>610</th>\n",
       "    </tr>\n",
       "  </thead>\n",
       "  <tbody>\n",
       "    <tr>\n",
       "      <th>0</th>\n",
       "      <td>4.0</td>\n",
       "      <td>0.0</td>\n",
       "      <td>0.0</td>\n",
       "      <td>0.0</td>\n",
       "      <td>4.0</td>\n",
       "      <td>0.0</td>\n",
       "      <td>4.5</td>\n",
       "      <td>0.0</td>\n",
       "      <td>0.0</td>\n",
       "      <td>0.0</td>\n",
       "      <td>...</td>\n",
       "      <td>4.0</td>\n",
       "      <td>0.0</td>\n",
       "      <td>4.0</td>\n",
       "      <td>3.0</td>\n",
       "      <td>4.0</td>\n",
       "      <td>2.5</td>\n",
       "      <td>4.0</td>\n",
       "      <td>2.5</td>\n",
       "      <td>3.0</td>\n",
       "      <td>5.0</td>\n",
       "    </tr>\n",
       "    <tr>\n",
       "      <th>1</th>\n",
       "      <td>0.0</td>\n",
       "      <td>0.0</td>\n",
       "      <td>0.0</td>\n",
       "      <td>0.0</td>\n",
       "      <td>0.0</td>\n",
       "      <td>4.0</td>\n",
       "      <td>0.0</td>\n",
       "      <td>4.0</td>\n",
       "      <td>0.0</td>\n",
       "      <td>0.0</td>\n",
       "      <td>...</td>\n",
       "      <td>0.0</td>\n",
       "      <td>4.0</td>\n",
       "      <td>0.0</td>\n",
       "      <td>5.0</td>\n",
       "      <td>3.5</td>\n",
       "      <td>0.0</td>\n",
       "      <td>0.0</td>\n",
       "      <td>2.0</td>\n",
       "      <td>0.0</td>\n",
       "      <td>0.0</td>\n",
       "    </tr>\n",
       "    <tr>\n",
       "      <th>2</th>\n",
       "      <td>4.0</td>\n",
       "      <td>0.0</td>\n",
       "      <td>0.0</td>\n",
       "      <td>0.0</td>\n",
       "      <td>0.0</td>\n",
       "      <td>5.0</td>\n",
       "      <td>0.0</td>\n",
       "      <td>0.0</td>\n",
       "      <td>0.0</td>\n",
       "      <td>0.0</td>\n",
       "      <td>...</td>\n",
       "      <td>0.0</td>\n",
       "      <td>0.0</td>\n",
       "      <td>0.0</td>\n",
       "      <td>0.0</td>\n",
       "      <td>0.0</td>\n",
       "      <td>0.0</td>\n",
       "      <td>0.0</td>\n",
       "      <td>2.0</td>\n",
       "      <td>0.0</td>\n",
       "      <td>0.0</td>\n",
       "    </tr>\n",
       "    <tr>\n",
       "      <th>3</th>\n",
       "      <td>0.0</td>\n",
       "      <td>0.0</td>\n",
       "      <td>0.0</td>\n",
       "      <td>0.0</td>\n",
       "      <td>0.0</td>\n",
       "      <td>3.0</td>\n",
       "      <td>0.0</td>\n",
       "      <td>0.0</td>\n",
       "      <td>0.0</td>\n",
       "      <td>0.0</td>\n",
       "      <td>...</td>\n",
       "      <td>0.0</td>\n",
       "      <td>0.0</td>\n",
       "      <td>0.0</td>\n",
       "      <td>0.0</td>\n",
       "      <td>0.0</td>\n",
       "      <td>0.0</td>\n",
       "      <td>0.0</td>\n",
       "      <td>0.0</td>\n",
       "      <td>0.0</td>\n",
       "      <td>0.0</td>\n",
       "    </tr>\n",
       "    <tr>\n",
       "      <th>4</th>\n",
       "      <td>0.0</td>\n",
       "      <td>0.0</td>\n",
       "      <td>0.0</td>\n",
       "      <td>0.0</td>\n",
       "      <td>0.0</td>\n",
       "      <td>5.0</td>\n",
       "      <td>0.0</td>\n",
       "      <td>0.0</td>\n",
       "      <td>0.0</td>\n",
       "      <td>0.0</td>\n",
       "      <td>...</td>\n",
       "      <td>0.0</td>\n",
       "      <td>0.0</td>\n",
       "      <td>0.0</td>\n",
       "      <td>3.0</td>\n",
       "      <td>0.0</td>\n",
       "      <td>0.0</td>\n",
       "      <td>0.0</td>\n",
       "      <td>0.0</td>\n",
       "      <td>0.0</td>\n",
       "      <td>0.0</td>\n",
       "    </tr>\n",
       "  </tbody>\n",
       "</table>\n",
       "<p>5 rows × 610 columns</p>\n",
       "</div>"
      ],
      "text/plain": [
       "userId  1    2    3    4    5    6    7    8    9    10   ...  601  602  603  \\\n",
       "0       4.0  0.0  0.0  0.0  4.0  0.0  4.5  0.0  0.0  0.0  ...  4.0  0.0  4.0   \n",
       "1       0.0  0.0  0.0  0.0  0.0  4.0  0.0  4.0  0.0  0.0  ...  0.0  4.0  0.0   \n",
       "2       4.0  0.0  0.0  0.0  0.0  5.0  0.0  0.0  0.0  0.0  ...  0.0  0.0  0.0   \n",
       "3       0.0  0.0  0.0  0.0  0.0  3.0  0.0  0.0  0.0  0.0  ...  0.0  0.0  0.0   \n",
       "4       0.0  0.0  0.0  0.0  0.0  5.0  0.0  0.0  0.0  0.0  ...  0.0  0.0  0.0   \n",
       "\n",
       "userId  604  605  606  607  608  609  610  \n",
       "0       3.0  4.0  2.5  4.0  2.5  3.0  5.0  \n",
       "1       5.0  3.5  0.0  0.0  2.0  0.0  0.0  \n",
       "2       0.0  0.0  0.0  0.0  2.0  0.0  0.0  \n",
       "3       0.0  0.0  0.0  0.0  0.0  0.0  0.0  \n",
       "4       3.0  0.0  0.0  0.0  0.0  0.0  0.0  \n",
       "\n",
       "[5 rows x 610 columns]"
      ]
     },
     "execution_count": 123,
     "metadata": {},
     "output_type": "execute_result"
    }
   ],
   "source": [
    "ratings_pivot = ratings.pivot(index = 'movieId',columns = 'userId', values='rating').reset_index(drop = True)\n",
    "ratings_pivot.fillna(0, inplace = True)\n",
    "ratings_pivot.head()"
   ]
  },
  {
   "cell_type": "code",
   "execution_count": 124,
   "id": "antique-perry",
   "metadata": {},
   "outputs": [
    {
     "data": {
      "text/html": [
       "<div>\n",
       "<style scoped>\n",
       "    .dataframe tbody tr th:only-of-type {\n",
       "        vertical-align: middle;\n",
       "    }\n",
       "\n",
       "    .dataframe tbody tr th {\n",
       "        vertical-align: top;\n",
       "    }\n",
       "\n",
       "    .dataframe thead th {\n",
       "        text-align: right;\n",
       "    }\n",
       "</style>\n",
       "<table border=\"1\" class=\"dataframe\">\n",
       "  <thead>\n",
       "    <tr style=\"text-align: right;\">\n",
       "      <th></th>\n",
       "      <th>0</th>\n",
       "      <th>1</th>\n",
       "      <th>2</th>\n",
       "      <th>3</th>\n",
       "      <th>4</th>\n",
       "      <th>5</th>\n",
       "      <th>6</th>\n",
       "      <th>7</th>\n",
       "      <th>8</th>\n",
       "      <th>9</th>\n",
       "      <th>...</th>\n",
       "      <th>9714</th>\n",
       "      <th>9715</th>\n",
       "      <th>9716</th>\n",
       "      <th>9717</th>\n",
       "      <th>9718</th>\n",
       "      <th>9719</th>\n",
       "      <th>9720</th>\n",
       "      <th>9721</th>\n",
       "      <th>9722</th>\n",
       "      <th>9723</th>\n",
       "    </tr>\n",
       "  </thead>\n",
       "  <tbody>\n",
       "    <tr>\n",
       "      <th>0</th>\n",
       "      <td>0.000000</td>\n",
       "      <td>0.410562</td>\n",
       "      <td>0.296917</td>\n",
       "      <td>0.035573</td>\n",
       "      <td>0.308762</td>\n",
       "      <td>0.376316</td>\n",
       "      <td>0.277491</td>\n",
       "      <td>0.131629</td>\n",
       "      <td>0.232586</td>\n",
       "      <td>0.395573</td>\n",
       "      <td>...</td>\n",
       "      <td>0.0</td>\n",
       "      <td>0.0</td>\n",
       "      <td>0.0</td>\n",
       "      <td>0.0</td>\n",
       "      <td>0.0</td>\n",
       "      <td>0.0</td>\n",
       "      <td>0.0</td>\n",
       "      <td>0.0</td>\n",
       "      <td>0.0</td>\n",
       "      <td>0.0</td>\n",
       "    </tr>\n",
       "    <tr>\n",
       "      <th>1</th>\n",
       "      <td>0.410562</td>\n",
       "      <td>0.000000</td>\n",
       "      <td>0.282438</td>\n",
       "      <td>0.106415</td>\n",
       "      <td>0.287795</td>\n",
       "      <td>0.297009</td>\n",
       "      <td>0.228576</td>\n",
       "      <td>0.172498</td>\n",
       "      <td>0.044835</td>\n",
       "      <td>0.417693</td>\n",
       "      <td>...</td>\n",
       "      <td>0.0</td>\n",
       "      <td>0.0</td>\n",
       "      <td>0.0</td>\n",
       "      <td>0.0</td>\n",
       "      <td>0.0</td>\n",
       "      <td>0.0</td>\n",
       "      <td>0.0</td>\n",
       "      <td>0.0</td>\n",
       "      <td>0.0</td>\n",
       "      <td>0.0</td>\n",
       "    </tr>\n",
       "    <tr>\n",
       "      <th>2</th>\n",
       "      <td>0.296917</td>\n",
       "      <td>0.282438</td>\n",
       "      <td>0.000000</td>\n",
       "      <td>0.092406</td>\n",
       "      <td>0.417802</td>\n",
       "      <td>0.284257</td>\n",
       "      <td>0.402831</td>\n",
       "      <td>0.313434</td>\n",
       "      <td>0.304840</td>\n",
       "      <td>0.242954</td>\n",
       "      <td>...</td>\n",
       "      <td>0.0</td>\n",
       "      <td>0.0</td>\n",
       "      <td>0.0</td>\n",
       "      <td>0.0</td>\n",
       "      <td>0.0</td>\n",
       "      <td>0.0</td>\n",
       "      <td>0.0</td>\n",
       "      <td>0.0</td>\n",
       "      <td>0.0</td>\n",
       "      <td>0.0</td>\n",
       "    </tr>\n",
       "    <tr>\n",
       "      <th>3</th>\n",
       "      <td>0.035573</td>\n",
       "      <td>0.106415</td>\n",
       "      <td>0.092406</td>\n",
       "      <td>0.000000</td>\n",
       "      <td>0.188376</td>\n",
       "      <td>0.089685</td>\n",
       "      <td>0.275035</td>\n",
       "      <td>0.158022</td>\n",
       "      <td>0.000000</td>\n",
       "      <td>0.095598</td>\n",
       "      <td>...</td>\n",
       "      <td>0.0</td>\n",
       "      <td>0.0</td>\n",
       "      <td>0.0</td>\n",
       "      <td>0.0</td>\n",
       "      <td>0.0</td>\n",
       "      <td>0.0</td>\n",
       "      <td>0.0</td>\n",
       "      <td>0.0</td>\n",
       "      <td>0.0</td>\n",
       "      <td>0.0</td>\n",
       "    </tr>\n",
       "    <tr>\n",
       "      <th>4</th>\n",
       "      <td>0.308762</td>\n",
       "      <td>0.287795</td>\n",
       "      <td>0.417802</td>\n",
       "      <td>0.188376</td>\n",
       "      <td>0.000000</td>\n",
       "      <td>0.298969</td>\n",
       "      <td>0.474002</td>\n",
       "      <td>0.283523</td>\n",
       "      <td>0.335058</td>\n",
       "      <td>0.218061</td>\n",
       "      <td>...</td>\n",
       "      <td>0.0</td>\n",
       "      <td>0.0</td>\n",
       "      <td>0.0</td>\n",
       "      <td>0.0</td>\n",
       "      <td>0.0</td>\n",
       "      <td>0.0</td>\n",
       "      <td>0.0</td>\n",
       "      <td>0.0</td>\n",
       "      <td>0.0</td>\n",
       "      <td>0.0</td>\n",
       "    </tr>\n",
       "    <tr>\n",
       "      <th>...</th>\n",
       "      <td>...</td>\n",
       "      <td>...</td>\n",
       "      <td>...</td>\n",
       "      <td>...</td>\n",
       "      <td>...</td>\n",
       "      <td>...</td>\n",
       "      <td>...</td>\n",
       "      <td>...</td>\n",
       "      <td>...</td>\n",
       "      <td>...</td>\n",
       "      <td>...</td>\n",
       "      <td>...</td>\n",
       "      <td>...</td>\n",
       "      <td>...</td>\n",
       "      <td>...</td>\n",
       "      <td>...</td>\n",
       "      <td>...</td>\n",
       "      <td>...</td>\n",
       "      <td>...</td>\n",
       "      <td>...</td>\n",
       "      <td>...</td>\n",
       "    </tr>\n",
       "    <tr>\n",
       "      <th>9719</th>\n",
       "      <td>0.000000</td>\n",
       "      <td>0.000000</td>\n",
       "      <td>0.000000</td>\n",
       "      <td>0.000000</td>\n",
       "      <td>0.000000</td>\n",
       "      <td>0.000000</td>\n",
       "      <td>0.000000</td>\n",
       "      <td>0.000000</td>\n",
       "      <td>0.000000</td>\n",
       "      <td>0.000000</td>\n",
       "      <td>...</td>\n",
       "      <td>1.0</td>\n",
       "      <td>1.0</td>\n",
       "      <td>1.0</td>\n",
       "      <td>1.0</td>\n",
       "      <td>1.0</td>\n",
       "      <td>0.0</td>\n",
       "      <td>1.0</td>\n",
       "      <td>1.0</td>\n",
       "      <td>1.0</td>\n",
       "      <td>0.0</td>\n",
       "    </tr>\n",
       "    <tr>\n",
       "      <th>9720</th>\n",
       "      <td>0.000000</td>\n",
       "      <td>0.000000</td>\n",
       "      <td>0.000000</td>\n",
       "      <td>0.000000</td>\n",
       "      <td>0.000000</td>\n",
       "      <td>0.000000</td>\n",
       "      <td>0.000000</td>\n",
       "      <td>0.000000</td>\n",
       "      <td>0.000000</td>\n",
       "      <td>0.000000</td>\n",
       "      <td>...</td>\n",
       "      <td>1.0</td>\n",
       "      <td>1.0</td>\n",
       "      <td>1.0</td>\n",
       "      <td>1.0</td>\n",
       "      <td>1.0</td>\n",
       "      <td>1.0</td>\n",
       "      <td>0.0</td>\n",
       "      <td>1.0</td>\n",
       "      <td>1.0</td>\n",
       "      <td>0.0</td>\n",
       "    </tr>\n",
       "    <tr>\n",
       "      <th>9721</th>\n",
       "      <td>0.000000</td>\n",
       "      <td>0.000000</td>\n",
       "      <td>0.000000</td>\n",
       "      <td>0.000000</td>\n",
       "      <td>0.000000</td>\n",
       "      <td>0.000000</td>\n",
       "      <td>0.000000</td>\n",
       "      <td>0.000000</td>\n",
       "      <td>0.000000</td>\n",
       "      <td>0.000000</td>\n",
       "      <td>...</td>\n",
       "      <td>1.0</td>\n",
       "      <td>1.0</td>\n",
       "      <td>1.0</td>\n",
       "      <td>1.0</td>\n",
       "      <td>1.0</td>\n",
       "      <td>1.0</td>\n",
       "      <td>1.0</td>\n",
       "      <td>0.0</td>\n",
       "      <td>1.0</td>\n",
       "      <td>0.0</td>\n",
       "    </tr>\n",
       "    <tr>\n",
       "      <th>9722</th>\n",
       "      <td>0.000000</td>\n",
       "      <td>0.000000</td>\n",
       "      <td>0.000000</td>\n",
       "      <td>0.000000</td>\n",
       "      <td>0.000000</td>\n",
       "      <td>0.000000</td>\n",
       "      <td>0.000000</td>\n",
       "      <td>0.000000</td>\n",
       "      <td>0.000000</td>\n",
       "      <td>0.000000</td>\n",
       "      <td>...</td>\n",
       "      <td>1.0</td>\n",
       "      <td>1.0</td>\n",
       "      <td>1.0</td>\n",
       "      <td>1.0</td>\n",
       "      <td>1.0</td>\n",
       "      <td>1.0</td>\n",
       "      <td>1.0</td>\n",
       "      <td>1.0</td>\n",
       "      <td>0.0</td>\n",
       "      <td>0.0</td>\n",
       "    </tr>\n",
       "    <tr>\n",
       "      <th>9723</th>\n",
       "      <td>0.000000</td>\n",
       "      <td>0.000000</td>\n",
       "      <td>0.000000</td>\n",
       "      <td>0.000000</td>\n",
       "      <td>0.000000</td>\n",
       "      <td>0.000000</td>\n",
       "      <td>0.000000</td>\n",
       "      <td>0.000000</td>\n",
       "      <td>0.000000</td>\n",
       "      <td>0.072542</td>\n",
       "      <td>...</td>\n",
       "      <td>0.0</td>\n",
       "      <td>0.0</td>\n",
       "      <td>0.0</td>\n",
       "      <td>0.0</td>\n",
       "      <td>0.0</td>\n",
       "      <td>0.0</td>\n",
       "      <td>0.0</td>\n",
       "      <td>0.0</td>\n",
       "      <td>0.0</td>\n",
       "      <td>0.0</td>\n",
       "    </tr>\n",
       "  </tbody>\n",
       "</table>\n",
       "<p>9724 rows × 9724 columns</p>\n",
       "</div>"
      ],
      "text/plain": [
       "          0         1         2         3         4         5         6     \\\n",
       "0     0.000000  0.410562  0.296917  0.035573  0.308762  0.376316  0.277491   \n",
       "1     0.410562  0.000000  0.282438  0.106415  0.287795  0.297009  0.228576   \n",
       "2     0.296917  0.282438  0.000000  0.092406  0.417802  0.284257  0.402831   \n",
       "3     0.035573  0.106415  0.092406  0.000000  0.188376  0.089685  0.275035   \n",
       "4     0.308762  0.287795  0.417802  0.188376  0.000000  0.298969  0.474002   \n",
       "...        ...       ...       ...       ...       ...       ...       ...   \n",
       "9719  0.000000  0.000000  0.000000  0.000000  0.000000  0.000000  0.000000   \n",
       "9720  0.000000  0.000000  0.000000  0.000000  0.000000  0.000000  0.000000   \n",
       "9721  0.000000  0.000000  0.000000  0.000000  0.000000  0.000000  0.000000   \n",
       "9722  0.000000  0.000000  0.000000  0.000000  0.000000  0.000000  0.000000   \n",
       "9723  0.000000  0.000000  0.000000  0.000000  0.000000  0.000000  0.000000   \n",
       "\n",
       "          7         8         9     ...  9714  9715  9716  9717  9718  9719  \\\n",
       "0     0.131629  0.232586  0.395573  ...   0.0   0.0   0.0   0.0   0.0   0.0   \n",
       "1     0.172498  0.044835  0.417693  ...   0.0   0.0   0.0   0.0   0.0   0.0   \n",
       "2     0.313434  0.304840  0.242954  ...   0.0   0.0   0.0   0.0   0.0   0.0   \n",
       "3     0.158022  0.000000  0.095598  ...   0.0   0.0   0.0   0.0   0.0   0.0   \n",
       "4     0.283523  0.335058  0.218061  ...   0.0   0.0   0.0   0.0   0.0   0.0   \n",
       "...        ...       ...       ...  ...   ...   ...   ...   ...   ...   ...   \n",
       "9719  0.000000  0.000000  0.000000  ...   1.0   1.0   1.0   1.0   1.0   0.0   \n",
       "9720  0.000000  0.000000  0.000000  ...   1.0   1.0   1.0   1.0   1.0   1.0   \n",
       "9721  0.000000  0.000000  0.000000  ...   1.0   1.0   1.0   1.0   1.0   1.0   \n",
       "9722  0.000000  0.000000  0.000000  ...   1.0   1.0   1.0   1.0   1.0   1.0   \n",
       "9723  0.000000  0.000000  0.072542  ...   0.0   0.0   0.0   0.0   0.0   0.0   \n",
       "\n",
       "      9720  9721  9722  9723  \n",
       "0      0.0   0.0   0.0   0.0  \n",
       "1      0.0   0.0   0.0   0.0  \n",
       "2      0.0   0.0   0.0   0.0  \n",
       "3      0.0   0.0   0.0   0.0  \n",
       "4      0.0   0.0   0.0   0.0  \n",
       "...    ...   ...   ...   ...  \n",
       "9719   1.0   1.0   1.0   0.0  \n",
       "9720   0.0   1.0   1.0   0.0  \n",
       "9721   1.0   0.0   1.0   0.0  \n",
       "9722   1.0   1.0   0.0   0.0  \n",
       "9723   0.0   0.0   0.0   0.0  \n",
       "\n",
       "[9724 rows x 9724 columns]"
      ]
     },
     "execution_count": 124,
     "metadata": {},
     "output_type": "execute_result"
    }
   ],
   "source": [
    "from sklearn.metrics import pairwise_distances\n",
    "from scipy.spatial.distance import cosine,correlation\n",
    "\n",
    "similarity = 1 - pairwise_distances(ratings_pivot.values,metric = 'cosine')\n",
    "np.fill_diagonal(similarity,0)\n",
    "rating_matrix = pd.DataFrame(similarity)\n",
    "rating_matrix"
   ]
  },
  {
   "cell_type": "code",
   "execution_count": 125,
   "id": "purple-mayor",
   "metadata": {},
   "outputs": [
    {
     "data": {
      "text/plain": [
       "1651    4680\n",
       "8361    8020\n",
       "7931    1868\n",
       "2774    1716\n",
       "1332    1234\n",
       "8929    9635\n",
       "5451     611\n",
       "4757    1638\n",
       "4953     805\n",
       "3705      85\n",
       "dtype: int64"
      ]
     },
     "execution_count": 125,
     "metadata": {},
     "output_type": "execute_result"
    }
   ],
   "source": [
    "rating_matrix.idxmax(axis = 1).sample(10)"
   ]
  },
  {
   "cell_type": "code",
   "execution_count": 126,
   "id": "coated-destiny",
   "metadata": {},
   "outputs": [],
   "source": [
    "reader = Reader(rating_scale= (0,5))\n",
    "\n",
    "dataset = Dataset.load_from_df(ratings,reader)\n"
   ]
  },
  {
   "cell_type": "code",
   "execution_count": null,
   "id": "european-empire",
   "metadata": {},
   "outputs": [],
   "source": []
  },
  {
   "cell_type": "code",
   "execution_count": null,
   "id": "broadband-planner",
   "metadata": {},
   "outputs": [],
   "source": []
  },
  {
   "cell_type": "markdown",
   "id": "first-england",
   "metadata": {},
   "source": [
    "# Finding the best model and training on that model"
   ]
  },
  {
   "cell_type": "code",
   "execution_count": 127,
   "id": "gentle-revelation",
   "metadata": {},
   "outputs": [],
   "source": [
    "trainset,testset = train_test_split(dataset,test_size = .25)"
   ]
  },
  {
   "cell_type": "code",
   "execution_count": 128,
   "id": "liberal-appliance",
   "metadata": {},
   "outputs": [
    {
     "name": "stdout",
     "output_type": "stream",
     "text": [
      "Testset Avg MAE: 2.71 Avg RMSE : 2.98 [RandomRating]\n"
     ]
    }
   ],
   "source": [
    "recsys = RandomRating(p=.168)\n",
    "predict_evaluate(recsys,dataset,'RandomRating')"
   ]
  },
  {
   "cell_type": "code",
   "execution_count": 129,
   "id": "breeding-longer",
   "metadata": {},
   "outputs": [
    {
     "name": "stdout",
     "output_type": "stream",
     "text": [
      "Computing the cosine similarity matrix...\n",
      "Done computing similarity matrix.\n",
      "Computing the cosine similarity matrix...\n",
      "Done computing similarity matrix.\n",
      "Computing the cosine similarity matrix...\n",
      "Done computing similarity matrix.\n",
      "Computing the cosine similarity matrix...\n",
      "Done computing similarity matrix.\n",
      "Testset Avg MAE: 0.75 Avg RMSE : 0.98 [KNNBasic]\n"
     ]
    }
   ],
   "source": [
    "sim_options = {'name':'cosine', 'user_based': True, 'k':40,'verbose':True}\n",
    "recsys = KNNBasic(k=20,sim_options = sim_options)\n",
    "predict_evaluate(recsys,dataset,'KNNBasic')"
   ]
  },
  {
   "cell_type": "code",
   "execution_count": 130,
   "id": "compatible-crowd",
   "metadata": {},
   "outputs": [
    {
     "name": "stdout",
     "output_type": "stream",
     "text": [
      "Computing the cosine similarity matrix...\n",
      "Done computing similarity matrix.\n",
      "Computing the cosine similarity matrix...\n",
      "Done computing similarity matrix.\n",
      "Computing the cosine similarity matrix...\n",
      "Done computing similarity matrix.\n",
      "Computing the cosine similarity matrix...\n",
      "Done computing similarity matrix.\n",
      "Testset Avg MAE: 0.75 Avg RMSE : 0.98 [KNNBasic]\n"
     ]
    }
   ],
   "source": [
    "sim_options = {'name':'cosine', 'user_based': True, 'k':40,'verbose':True}\n",
    "recsys = KNNBasic(k=20,sim_options = sim_options)\n",
    "predict_evaluate(recsys,dataset,'KNNBasic')\n",
    "\n",
    "# best model"
   ]
  },
  {
   "cell_type": "markdown",
   "id": "active-store",
   "metadata": {},
   "source": [
    "Running grid search on a portion of the dataset"
   ]
  },
  {
   "cell_type": "code",
   "execution_count": 131,
   "id": "improving-string",
   "metadata": {},
   "outputs": [],
   "source": [
    "# param_grid = {'sim_options':{'name':['cosine','pearson'],\n",
    "#                             },\n",
    "#              'k':[5,10,20,40],\n",
    "#              'verbose':[True]}\n",
    "# dataset_subset = Dataset.load_from_df(ratings.sample(frac = .25,random_state = 0),reader)\n",
    "# gscv = GridSearchCV(KNNBasic,param_grid,measures =['rmse','mae'],cv=4,n_jobs =-1)\n",
    "# gscv.fit(dataset)\n",
    "\n",
    "# print('Best MAE: ',gscv.best_score['mae'].round(2))\n",
    "# print('Best RMSE: ',gscv.best_score['rmse'].round(2))\n",
    "# print('Best Params: ',gscv.best_params['rmse'])"
   ]
  },
  {
   "cell_type": "markdown",
   "id": "fancy-vulnerability",
   "metadata": {
    "heading_collapsed": true
   },
   "source": [
    "# Testing model on predefined predictions\n",
    "here we are taking the model and predicting the estimation score of what the model would recommend based off of the given movieId"
   ]
  },
  {
   "cell_type": "code",
   "execution_count": 134,
   "id": "vocational-conversation",
   "metadata": {
    "hidden": true
   },
   "outputs": [
    {
     "data": {
      "text/html": [
       "<div>\n",
       "<style scoped>\n",
       "    .dataframe tbody tr th:only-of-type {\n",
       "        vertical-align: middle;\n",
       "    }\n",
       "\n",
       "    .dataframe tbody tr th {\n",
       "        vertical-align: top;\n",
       "    }\n",
       "\n",
       "    .dataframe thead th {\n",
       "        text-align: right;\n",
       "    }\n",
       "</style>\n",
       "<table border=\"1\" class=\"dataframe\">\n",
       "  <thead>\n",
       "    <tr style=\"text-align: right;\">\n",
       "      <th></th>\n",
       "      <th>movieId</th>\n",
       "      <th>title</th>\n",
       "      <th>genres</th>\n",
       "      <th>userId</th>\n",
       "      <th>rating</th>\n",
       "      <th>release year</th>\n",
       "      <th>ratings count</th>\n",
       "      <th>average rating</th>\n",
       "      <th>Recommended Score</th>\n",
       "    </tr>\n",
       "  </thead>\n",
       "  <tbody>\n",
       "    <tr>\n",
       "      <th>214</th>\n",
       "      <td>1</td>\n",
       "      <td>Toy Story</td>\n",
       "      <td>['Adventure', 'Animation', 'Children', 'Comedy...</td>\n",
       "      <td>610</td>\n",
       "      <td>5.0</td>\n",
       "      <td>1995</td>\n",
       "      <td>9724</td>\n",
       "      <td>4.0</td>\n",
       "      <td>3.501778</td>\n",
       "    </tr>\n",
       "    <tr>\n",
       "      <th>85908</th>\n",
       "      <td>55267</td>\n",
       "      <td>Dan in Real Life</td>\n",
       "      <td>['Comedy', 'Drama', 'Romance']</td>\n",
       "      <td>599</td>\n",
       "      <td>2.5</td>\n",
       "      <td>2007</td>\n",
       "      <td>9724</td>\n",
       "      <td>NaN</td>\n",
       "      <td>3.501778</td>\n",
       "    </tr>\n",
       "    <tr>\n",
       "      <th>85795</th>\n",
       "      <td>55112</td>\n",
       "      <td>Shanghai Kiss</td>\n",
       "      <td>['Comedy', 'Drama', 'Romance']</td>\n",
       "      <td>68</td>\n",
       "      <td>4.0</td>\n",
       "      <td>2007</td>\n",
       "      <td>9724</td>\n",
       "      <td>NaN</td>\n",
       "      <td>3.501778</td>\n",
       "    </tr>\n",
       "    <tr>\n",
       "      <th>85798</th>\n",
       "      <td>55116</td>\n",
       "      <td>Hunting Party, The</td>\n",
       "      <td>['Action', 'Adventure', 'Comedy', 'Drama', 'Th...</td>\n",
       "      <td>599</td>\n",
       "      <td>2.5</td>\n",
       "      <td>2007</td>\n",
       "      <td>9724</td>\n",
       "      <td>NaN</td>\n",
       "      <td>3.501778</td>\n",
       "    </tr>\n",
       "    <tr>\n",
       "      <th>85817</th>\n",
       "      <td>55118</td>\n",
       "      <td>Eastern Promises</td>\n",
       "      <td>['Crime', 'Drama', 'Thriller']</td>\n",
       "      <td>610</td>\n",
       "      <td>4.0</td>\n",
       "      <td>2007</td>\n",
       "      <td>9724</td>\n",
       "      <td>NaN</td>\n",
       "      <td>3.501778</td>\n",
       "    </tr>\n",
       "  </tbody>\n",
       "</table>\n",
       "</div>"
      ],
      "text/plain": [
       "      movieId                title  \\\n",
       "214         1           Toy Story    \n",
       "85908   55267    Dan in Real Life    \n",
       "85795   55112       Shanghai Kiss    \n",
       "85798   55116  Hunting Party, The    \n",
       "85817   55118    Eastern Promises    \n",
       "\n",
       "                                                  genres userId  rating  \\\n",
       "214    ['Adventure', 'Animation', 'Children', 'Comedy...    610     5.0   \n",
       "85908                     ['Comedy', 'Drama', 'Romance']    599     2.5   \n",
       "85795                     ['Comedy', 'Drama', 'Romance']     68     4.0   \n",
       "85798  ['Action', 'Adventure', 'Comedy', 'Drama', 'Th...    599     2.5   \n",
       "85817                     ['Crime', 'Drama', 'Thriller']    610     4.0   \n",
       "\n",
       "      release year ratings count  average rating  Recommended Score  \n",
       "214           1995          9724             4.0           3.501778  \n",
       "85908         2007          9724             NaN           3.501778  \n",
       "85795         2007          9724             NaN           3.501778  \n",
       "85798         2007          9724             NaN           3.501778  \n",
       "85817         2007          9724             NaN           3.501778  "
      ]
     },
     "execution_count": 134,
     "metadata": {},
     "output_type": "execute_result"
    }
   ],
   "source": [
    "user = df.userId.values.max()\n",
    "df['Recommended Score'] = df['movieId'].apply(lambda x: recsys.predict(user,x).est)\n",
    "recmov = df.sort_values(by=['Recommended Score'],ascending = False)\n",
    "recmov.drop_duplicates(subset = 'title',keep = 'first',inplace = True)\n",
    "recmov.head(5)"
   ]
  },
  {
   "cell_type": "code",
   "execution_count": 133,
   "id": "consolidated-stevens",
   "metadata": {
    "hidden": true
   },
   "outputs": [
    {
     "data": {
      "text/html": [
       "<div>\n",
       "<style scoped>\n",
       "    .dataframe tbody tr th:only-of-type {\n",
       "        vertical-align: middle;\n",
       "    }\n",
       "\n",
       "    .dataframe tbody tr th {\n",
       "        vertical-align: top;\n",
       "    }\n",
       "\n",
       "    .dataframe thead th {\n",
       "        text-align: right;\n",
       "    }\n",
       "</style>\n",
       "<table border=\"1\" class=\"dataframe\">\n",
       "  <thead>\n",
       "    <tr style=\"text-align: right;\">\n",
       "      <th></th>\n",
       "      <th>movieId</th>\n",
       "      <th>title</th>\n",
       "      <th>genres</th>\n",
       "      <th>userId</th>\n",
       "      <th>rating</th>\n",
       "      <th>release year</th>\n",
       "      <th>ratings count</th>\n",
       "      <th>average rating</th>\n",
       "      <th>Recommended Score</th>\n",
       "    </tr>\n",
       "  </thead>\n",
       "  <tbody>\n",
       "    <tr>\n",
       "      <th>35916</th>\n",
       "      <td>1831</td>\n",
       "      <td>Lost in Space</td>\n",
       "      <td>['Action', 'Adventure', 'Sci-Fi']</td>\n",
       "      <td>611</td>\n",
       "      <td>3.0</td>\n",
       "      <td>1998</td>\n",
       "      <td>9724</td>\n",
       "      <td>NaN</td>\n",
       "      <td>3.501778</td>\n",
       "    </tr>\n",
       "    <tr>\n",
       "      <th>49042</th>\n",
       "      <td>2887</td>\n",
       "      <td>Simon Sez</td>\n",
       "      <td>['Action', 'Comedy']</td>\n",
       "      <td>611</td>\n",
       "      <td>5.0</td>\n",
       "      <td>1999</td>\n",
       "      <td>9724</td>\n",
       "      <td>NaN</td>\n",
       "      <td>3.501778</td>\n",
       "    </tr>\n",
       "    <tr>\n",
       "      <th>75569</th>\n",
       "      <td>7991</td>\n",
       "      <td>Death Race 2000</td>\n",
       "      <td>['Action', 'Sci-Fi']</td>\n",
       "      <td>611</td>\n",
       "      <td>5.0</td>\n",
       "      <td>1975</td>\n",
       "      <td>9724</td>\n",
       "      <td>NaN</td>\n",
       "      <td>3.501778</td>\n",
       "    </tr>\n",
       "    <tr>\n",
       "      <th>82750</th>\n",
       "      <td>46322</td>\n",
       "      <td>Jet Li's Fearless (Huo Yuan Jia)</td>\n",
       "      <td>['Action', 'Drama']</td>\n",
       "      <td>611</td>\n",
       "      <td>3.0</td>\n",
       "      <td>2006</td>\n",
       "      <td>9724</td>\n",
       "      <td>NaN</td>\n",
       "      <td>3.501778</td>\n",
       "    </tr>\n",
       "    <tr>\n",
       "      <th>44912</th>\n",
       "      <td>2549</td>\n",
       "      <td>Wing Commander</td>\n",
       "      <td>['Action', 'Sci-Fi']</td>\n",
       "      <td>611</td>\n",
       "      <td>2.0</td>\n",
       "      <td>1999</td>\n",
       "      <td>9724</td>\n",
       "      <td>NaN</td>\n",
       "      <td>3.501778</td>\n",
       "    </tr>\n",
       "  </tbody>\n",
       "</table>\n",
       "</div>"
      ],
      "text/plain": [
       "      movieId                              title  \\\n",
       "35916    1831                     Lost in Space    \n",
       "49042    2887                         Simon Sez    \n",
       "75569    7991                   Death Race 2000    \n",
       "82750   46322  Jet Li's Fearless (Huo Yuan Jia)    \n",
       "44912    2549                    Wing Commander    \n",
       "\n",
       "                                  genres userId  rating release year  \\\n",
       "35916  ['Action', 'Adventure', 'Sci-Fi']    611     3.0         1998   \n",
       "49042               ['Action', 'Comedy']    611     5.0         1999   \n",
       "75569               ['Action', 'Sci-Fi']    611     5.0         1975   \n",
       "82750                ['Action', 'Drama']    611     3.0         2006   \n",
       "44912               ['Action', 'Sci-Fi']    611     2.0         1999   \n",
       "\n",
       "      ratings count  average rating  Recommended Score  \n",
       "35916          9724             NaN           3.501778  \n",
       "49042          9724             NaN           3.501778  \n",
       "75569          9724             NaN           3.501778  \n",
       "82750          9724             NaN           3.501778  \n",
       "44912          9724             NaN           3.501778  "
      ]
     },
     "execution_count": 133,
     "metadata": {},
     "output_type": "execute_result"
    }
   ],
   "source": [
    "# ratings_pivot.head()\n",
    "# display(ratings['userId'] == 0)\n",
    "# ratings['userId'].tail()\n",
    "df.tail()"
   ]
  },
  {
   "cell_type": "markdown",
   "id": "joined-sculpture",
   "metadata": {
    "heading_collapsed": true
   },
   "source": [
    "# Testing area\n",
    "using this area to test new production code for project"
   ]
  },
  {
   "cell_type": "code",
   "execution_count": 96,
   "id": "inner-ballet",
   "metadata": {
    "hidden": true
   },
   "outputs": [
    {
     "data": {
      "text/plain": [
       "610"
      ]
     },
     "execution_count": 96,
     "metadata": {},
     "output_type": "execute_result"
    }
   ],
   "source": [
    "user"
   ]
  },
  {
   "cell_type": "code",
   "execution_count": null,
   "id": "preceding-patch",
   "metadata": {
    "hidden": true
   },
   "outputs": [],
   "source": []
  },
  {
   "cell_type": "code",
   "execution_count": null,
   "id": "effective-revision",
   "metadata": {
    "hidden": true
   },
   "outputs": [],
   "source": []
  },
  {
   "cell_type": "code",
   "execution_count": null,
   "id": "elegant-cargo",
   "metadata": {
    "hidden": true
   },
   "outputs": [],
   "source": []
  },
  {
   "cell_type": "code",
   "execution_count": null,
   "id": "hearing-carrier",
   "metadata": {
    "hidden": true
   },
   "outputs": [],
   "source": []
  }
 ],
 "metadata": {
  "kernelspec": {
   "display_name": "Python 3",
   "language": "python",
   "name": "python3"
  },
  "language_info": {
   "codemirror_mode": {
    "name": "ipython",
    "version": 3
   },
   "file_extension": ".py",
   "mimetype": "text/x-python",
   "name": "python",
   "nbconvert_exporter": "python",
   "pygments_lexer": "ipython3",
   "version": "3.7.9"
  },
  "toc": {
   "base_numbering": 1,
   "nav_menu": {},
   "number_sections": true,
   "sideBar": true,
   "skip_h1_title": false,
   "title_cell": "Table of Contents",
   "title_sidebar": "Contents",
   "toc_cell": false,
   "toc_position": {},
   "toc_section_display": true,
   "toc_window_display": false
  }
 },
 "nbformat": 4,
 "nbformat_minor": 5
}
